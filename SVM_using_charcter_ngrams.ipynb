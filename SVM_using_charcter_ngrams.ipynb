{
 "cells": [
  {
   "cell_type": "markdown",
   "metadata": {},
   "source": [
    "## Import Needed Libraries"
   ]
  },
  {
   "cell_type": "code",
   "execution_count": 1,
   "metadata": {},
   "outputs": [],
   "source": [
    "import numpy as np\n",
    "import scipy as sp\n",
    "%matplotlib inline\n",
    "import matplotlib.pyplot as plt\n",
    "from collections import defaultdict\n",
    "from collections import Counter\n",
    "from scipy.sparse import csr_matrix\n",
    "import os\n",
    "import re\n",
    "import time\n",
    "from sklearn.svm import SVC\n",
    "from sklearn.model_selection import KFold\n",
    "from sklearn.model_selection import cross_val_score\n",
    "from sklearn.model_selection import train_test_split"
   ]
  },
  {
   "cell_type": "markdown",
   "metadata": {},
   "source": [
    "## Define Functions to Produce Character N-grams "
   ]
  },
  {
   "cell_type": "code",
   "execution_count": 2,
   "metadata": {},
   "outputs": [],
   "source": [
    "def ngram(txt, n, ngrams):\n",
    "    r\"\"\" Takes in a list of characters and combines them into character\n",
    "    n-grams of specified length\n",
    "    \"\"\"\n",
    "    \n",
    "    for i in range(0,len(txt)-n+1):\n",
    "        ngram = txt[i:i+n]\n",
    "        ngrams.append(\" \".join(ngram))\n",
    "\n",
    "    return ngrams"
   ]
  },
  {
   "cell_type": "code",
   "execution_count": 3,
   "metadata": {},
   "outputs": [],
   "source": [
    "def tokenizeArticle(filename, ngramLen):\n",
    "    r\"\"\" Takes in file and outputs a set of character n-grams\n",
    "    \"\"\"\n",
    "    \n",
    "    # load text\n",
    "    file = open(filename, 'rt')\n",
    "    text = file.read()\n",
    "    file.close()\n",
    "\n",
    "    # Extract characters from text (alphabetical, ' and -)\n",
    "    word_tokens = re.findall(r\"[A-Za-z '-]\",text)\n",
    "    \n",
    "    # Convert all characters to lowercase\n",
    "    Words = [word.lower() for word in word_tokens]\n",
    "\n",
    "    # Extract character n-grams\n",
    "    words = []\n",
    "    for n in ngramLen:\n",
    "        w = ngram(Words,n,words)\n",
    "    \n",
    "    return words"
   ]
  },
  {
   "cell_type": "markdown",
   "metadata": {},
   "source": [
    "## Define Functions to Reduce and Normalize Data "
   ]
  },
  {
   "cell_type": "code",
   "execution_count": 4,
   "metadata": {},
   "outputs": [],
   "source": [
    "def filterSize(DB, arraySize):\n",
    "    r\"\"\" Filters dataset down to the N most frequent character n-grams\n",
    "    \"\"\"\n",
    "    \n",
    "    # Calculate Document Frequency\n",
    "    df = defaultdict(int)\n",
    "    for d in DB:\n",
    "        for w in set(d):\n",
    "            df[w] += 1\n",
    "    \n",
    "    # Determine word of the most common occurrence\n",
    "    count = 1\n",
    "    dnew = defaultdict(int)\n",
    "    for key in sorted(df.items(), key=lambda item: item[1], reverse=True):\n",
    "        dnew[key[0]] = count\n",
    "        count = count + 1\n",
    "    \n",
    "    return [ [t for t in d if dnew[t] <= arraySize] for d in DB ]"
   ]
  },
  {
   "cell_type": "code",
   "execution_count": 5,
   "metadata": {},
   "outputs": [],
   "source": [
    "def build_matrix(docs):\n",
    "    r\"\"\" Build sparse matrix from a list of documents, \n",
    "    each of which is a list of word/terms in the document.  \n",
    "    \"\"\"\n",
    "    nrows = len(docs)\n",
    "    idx = {}\n",
    "    tid = 0\n",
    "    nnz = 0\n",
    "    for d in docs:\n",
    "        nnz += len(set(d))\n",
    "        for w in d:\n",
    "            if w not in idx:\n",
    "                idx[w] = tid\n",
    "                tid += 1\n",
    "    ncols = len(idx)\n",
    "        \n",
    "    # set up memory\n",
    "    ind = np.zeros(nnz, dtype=np.int)\n",
    "    val = np.zeros(nnz, dtype=np.double)\n",
    "    ptr = np.zeros(nrows+1, dtype=np.int)\n",
    "    i = 0  # document ID / row counter\n",
    "    n = 0  # non-zero counter\n",
    "    # transfer values\n",
    "    for d in docs:\n",
    "        cnt = Counter(d)\n",
    "        keys = list(k for k,_ in cnt.most_common())\n",
    "        l = len(keys)\n",
    "        for j,k in enumerate(keys):\n",
    "            ind[j+n] = idx[k]\n",
    "            val[j+n] = cnt[k]\n",
    "        ptr[i+1] = ptr[i] + l\n",
    "        n += l\n",
    "        i += 1\n",
    "            \n",
    "    mat = csr_matrix((val, ind, ptr), shape=(nrows, ncols), dtype=np.double)\n",
    "    mat.sort_indices()\n",
    "    \n",
    "    return mat\n",
    "\n",
    "\n",
    "def csr_info(mat, name=\"\", non_empy=False):\n",
    "    r\"\"\" Print out info about this CSR matrix. If non_empy, \n",
    "    report number of non-empty rows and cols as well\n",
    "    \"\"\"\n",
    "    if non_empy:\n",
    "        print(\"%s [nrows %d (%d non-empty), ncols %d (%d non-empty), nnz %d]\" % (\n",
    "                name, mat.shape[0], \n",
    "                sum(1 if mat.indptr[i+1] > mat.indptr[i] else 0 \n",
    "                for i in range(mat.shape[0])), \n",
    "                mat.shape[1], len(np.unique(mat.indices)), \n",
    "                len(mat.data)))\n",
    "    else:\n",
    "        print( \"%s [nrows %d, ncols %d, nnz %d]\" % (name, \n",
    "                mat.shape[0], mat.shape[1], len(mat.data)) )"
   ]
  },
  {
   "cell_type": "code",
   "execution_count": 6,
   "metadata": {},
   "outputs": [],
   "source": [
    "def td_idf(dbMat):\n",
    "    r\"\"\" Normalizes the sparse matrix based on Term Frequency, Inverse Document\n",
    "    Frequency normalization\n",
    "    \"\"\"\n",
    "    # Get Data from Sparse Matrix\n",
    "    nrows = dbMat.shape[0]\n",
    "    nnz = dbMat.nnz\n",
    "    ind, val, ptr = dbMat.indices, dbMat.data, dbMat.indptr\n",
    "    \n",
    "    # document frequency\n",
    "    df = defaultdict(int)\n",
    "    for i in ind:\n",
    "        df[i] += 1\n",
    "\n",
    "    # inverse document frequency\n",
    "    for k,v in df.items():\n",
    "        df[k] = np.log(nrows / float(v))  ## df turns to idf - reusing memory\n",
    "    \n",
    "    # scale by idf\n",
    "    for i in range(0, nnz):\n",
    "        val[i] *= df[ind[i]]\n",
    "    \n",
    "    return dbMat"
   ]
  },
  {
   "cell_type": "code",
   "execution_count": 7,
   "metadata": {},
   "outputs": [],
   "source": [
    "def l2norm(dbMat):\n",
    "    r\"\"\" Normalizes the sparse matrix based on L2 Normalization\n",
    "    \"\"\"\n",
    "    \n",
    "    # Get Data from Sparse Matrix\n",
    "    nrows = dbMat.shape[0]\n",
    "    nnz = dbMat.nnz\n",
    "    ind, val, ptr = dbMat.indices, dbMat.data, dbMat.indptr\n",
    "    \n",
    "    for i in range(nrows):\n",
    "        rsum = 0.0    \n",
    "        for j in range(ptr[i], ptr[i+1]):\n",
    "            rsum += val[j]**2\n",
    "        if rsum == 0.0:\n",
    "            continue  # do not normalize empty rows\n",
    "        rsum = 1.0/np.sqrt(rsum)\n",
    "        for j in range(ptr[i], ptr[i+1]):\n",
    "            val[j] *= rsum\n",
    "    \n",
    "    return dbMat"
   ]
  },
  {
   "cell_type": "markdown",
   "metadata": {},
   "source": [
    "## Convert Articles into Charcter N-grams "
   ]
  },
  {
   "cell_type": "code",
   "execution_count": 8,
   "metadata": {},
   "outputs": [],
   "source": [
    "# Initialize variables to store author for each article and word tokenization matrix\n",
    "authorCount = 0\n",
    "authorID = []\n",
    "articleDB = []\n",
    "\n",
    "# Loop through each author directory within training set\n",
    "dataDir = os.listdir('data/C50train')\n",
    "for dDir in dataDir:\n",
    "\n",
    "    # Loop through each article within author directory\n",
    "    authorDir = os.listdir('data/C50train/' + dDir)\n",
    "    for aDir in authorDir:\n",
    "\n",
    "        # Tokenize each article and store author ID\n",
    "        articleDB.append(tokenizeArticle('data/C50train/' + dDir + '/' + aDir, [5]))\n",
    "        authorID.append(authorCount)\n",
    "        \n",
    "    # Increment author id for next author\n",
    "    authorCount = authorCount + 1\n",
    "\n",
    "# Loop through each author directory within testing set\n",
    "authorCount = 0\n",
    "dataDir = os.listdir('data/C50test')\n",
    "for dDir in dataDir:\n",
    "\n",
    "    # Loop through each article within author directory\n",
    "    authorDir = os.listdir('data/C50test/' + dDir)\n",
    "    for aDir in authorDir:\n",
    "\n",
    "        # Tokenize each article and store author ID\n",
    "        articleDB.append(tokenizeArticle('data/C50test/' + dDir + '/' + aDir, [5]))\n",
    "        authorID.append(authorCount)\n",
    "        \n",
    "    # Increment author id for next author\n",
    "    authorCount = authorCount + 1"
   ]
  },
  {
   "cell_type": "code",
   "execution_count": 9,
   "metadata": {},
   "outputs": [
    {
     "name": "stdout",
     "output_type": "stream",
     "text": [
      "['t h e   i', 'h e   i n', 'e   i n t', '  i n t e', 'i n t e r', 'n t e r n', 't e r n e', 'e r n e t', 'r n e t  ', 'n e t   m', 'e t   m a', 't   m a y', '  m a y  ', 'm a y   b', 'a y   b e', 'y   b e  ', '  b e   o', 'b e   o v', 'e   o v e', '  o v e r', 'o v e r f', 'v e r f l', 'e r f l o', 'r f l o w', 'f l o w i', 'l o w i n', 'o w i n g', 'w i n g  ', 'i n g   w', 'n g   w i', 'g   w i t', '  w i t h', 'w i t h  ', 'i t h   n', 't h   n e', 'h   n e w', '  n e w  ', 'n e w   t', 'e w   t e', 'w   t e c', '  t e c h', 't e c h n', 'e c h n o', 'c h n o l', 'h n o l o', 'n o l o g', 'o l o g y', 'l o g y  ', 'o g y   b', 'g y   b u', 'y   b u t', '  b u t  ', 'b u t   c', 'u t   c r', 't   c r i', '  c r i m', 'c r i m e', 'r i m e  ', 'i m e   i', 'm e   i n', 'e   i n  ', '  i n   c', 'i n   c y', 'n   c y b', '  c y b e', 'c y b e r', 'y b e r s', 'b e r s p', 'e r s p a', 'r s p a c', 's p a c e', 'p a c e  ', 'a c e   i', 'c e   i s', 'e   i s  ', '  i s   s', 'i s   s t', 's   s t i', '  s t i l', 's t i l l', 't i l l  ', 'i l l   o', 'l l   o f', 'l   o f  ', '  o f   t', 'o f   t h', 'f   t h e', '  t h e  ', 't h e   o', 'h e   o l', 'e   o l d', '  o l d -', 'o l d - f', 'l d - f a', 'd - f a s', '- f a s h', 'f a s h i', 'a s h i o', 's h i o n', 'h i o n e', 'i o n e d', 'o n e d  ', 'n e d   v', 'e d   v a', 'd   v a r', '  v a r i', 'v a r i e', 'a r i e t', 'r i e t y', 'i e t y t', 'e t y t h', 't y t h e', 'y t h e  ', 't h e   n', 'h e   n a', 'e   n a t', '  n a t i', 'n a t i o', 'a t i o n', 't i o n a', 'i o n a l', 'o n a l  ', 'n a l   c', 'a l   c o', 'l   c o n', '  c o n s', 'c o n s u', 'o n s u m', 'n s u m e', 's u m e r', 'u m e r s', 'm e r s  ', 'e r s   l', 'r s   l e', 's   l e a', '  l e a g', 'l e a g u', 'e a g u e', 'a g u e  ', 'g u e   s', 'u e   s a', 'e   s a i', '  s a i d', 's a i d  ', 'a i d   w', 'i d   w e', 'd   w e d', '  w e d n', 'w e d n e', 'e d n e s', 'd n e s d', 'n e s d a', 'e s d a y', 's d a y  ', 'd a y   t', 'a y   t h', 'y   t h a', '  t h a t', 't h a t  ', 'h a t   t', 'a t   t h', 't   t h e', '  t h e  ', 't h e   m', 'h e   m o', 'e   m o s', '  m o s t', 'm o s t  ', 'o s t   p', 's t   p o', 't   p o p', '  p o p u', 'p o p u l', 'o p u l a', 'p u l a r', 'u l a r  ', 'l a r   s', 'a r   s c', 'r   s c a', '  s c a m', 's c a m  ', 'c a m   o', 'a m   o n', 'm   o n  ', '  o n   t', 'o n   t h', 'n   t h e', '  t h e  ', 't h e   i', 'h e   i n', 'e   i n t', '  i n t e', 'i n t e r', 'n t e r n', 't e r n e', 'e r n e t', 'r n e t  ', 'n e t   w', 'e t   w a', 't   w a s', '  w a s  ', 'w a s   t', 'a s   t h', 's   t h e', '  t h e  ', 't h e   p', 'h e   p y', 'e   p y r', '  p y r a', 'p y r a m', 'y r a m i', 'r a m i d', 'a m i d  ', 'm i d   s', 'i d   s c', 'd   s c h', '  s c h e', 's c h e m', 'c h e m e', 'h e m e  ', 'e m e   i', 'm e   i n', 'e   i n  ', '  i n   w', 'i n   w h', 'n   w h i', '  w h i c', 'w h i c h', 'h i c h  ', 'i c h   e', 'c h   e a', 'h   e a r', '  e a r l', 'e a r l y', 'a r l y  ', 'r l y   i', 'l y   i n', 'y   i n v', '  i n v e', 'i n v e s', 'n v e s t', 'v e s t o', 'e s t o r', 's t o r s', 't o r s  ', 'o r s   i', 'r s   i n', 's   i n  ', '  i n   a', 'i n   a  ', 'n   a   b', '  a   b o', 'a   b o g', '  b o g u', 'b o g u s', 'o g u s  ', 'g u s   f', 'u s   f u', 's   f u n', '  f u n d', 'f u n d  ', 'u n d   a', 'n d   a r', 'd   a r e', '  a r e  ', 'a r e   p', 'r e   p a', 'e   p a i', '  p a i d', 'p a i d  ', 'a i d   o', 'i d   o f', 'd   o f f', '  o f f  ', 'o f f   w', 'f f   w i', 'f   w i t', '  w i t h', 'w i t h  ', 'i t h   d', 't h   d e', 'h   d e p', '  d e p o', 'd e p o s', 'e p o s i', 'p o s i t', 'o s i t s', 's i t s  ', 'i t s   o', 't s   o f', 's   o f  ', '  o f   l', 'o f   l a', 'f   l a t', '  l a t e', 'l a t e r', 'a t e r  ', 't e r   i', 'e r   i n', 'r   i n v', '  i n v e', 'i n v e s', 'n v e s t', 'v e s t o', 'e s t o r', 's t o r s', 't o r s t', 'o r s t h', 'r s t h e', 's t h e  ', 't h e   l', 'h e   l e', 'e   l e a', '  l e a g', 'l e a g u', 'e a g u e', 'a g u e  ', 'g u e   a', 'u e   a  ', 'e   a   n', '  a   n o', 'a   n o n', '  n o n -', 'n o n - p', 'o n - p r', 'n - p r o', '- p r o f', 'p r o f i', 'r o f i t', 'o f i t  ', 'f i t   c', 'i t   c o', 't   c o n', '  c o n s', 'c o n s u', 'o n s u m', 'n s u m e', 's u m e r', 'u m e r  ', 'm e r   a', 'e r   a d', 'r   a d v', '  a d v o', 'a d v o c', 'd v o c a', 'v o c a c', 'o c a c y', 'c a c y  ', 'a c y   g', 'c y   g r', 'y   g r o', '  g r o u', 'g r o u p', 'r o u p  ', 'o u p   t', 'u p   t r', 'p   t r a', '  t r a c', 't r a c k', 'r a c k s', 'a c k s  ', 'c k s   w', 'k s   w e', 's   w e b', '  w e b  ', 'w e b   s', 'e b   s c', 'b   s c a', '  s c a m', 's c a m s', 'c a m s  ', 'a m s   t', 'm s   t h', 's   t h r', '  t h r o', 't h r o u', 'h r o u g', 'r o u g h', 'o u g h  ', 'u g h   a', 'g h   a  ', 'h   a   s', '  a   s i', 'a   s i t', '  s i t e', 's i t e  ', 'i t e   i', 't e   i t', 'e   i t  ', '  i t   s', 'i t   s e', 't   s e t', '  s e t  ', 's e t   u', 'e t   u p', 't   u p  ', '  u p   o', 'u p   o n', 'p   o n  ', '  o n   t', 'o n   t h', 'n   t h e', '  t h e  ', 't h e   w', 'h e   w o', 'e   w o r', '  w o r l', 'w o r l d', 'o r l d  ', 'r l d   w', 'l d   w i', 'd   w i d', '  w i d e', 'w i d e  ', 'i d e   w', 'd e   w e', 'e   w e b', '  w e b  ', 'w e b   i', 'e b   i n', 'b   i n  ', '  i n   f', 'i n   f e', 'n   f e b', '  f e b r', 'f e b r u', 'e b r u a', 'b r u a r', 'r u a r y', 'u a r y  ', 'a r y   c', 'r y   c a', 'y   c a l', '  c a l l', 'c a l l e', 'a l l e d', 'l l e d  ', 'l e d   i', 'e d   i n', 'd   i n t', '  i n t e', 'i n t e r', 'n t e r n', 't e r n e', 'e r n e t', 'r n e t  ', 'n e t   f', 'e t   f r', 't   f r a', '  f r a u', 'f r a u d', 'r a u d  ', 'a u d   w', 'u d   w a', 'd   w a t', '  w a t c', 'w a t c h', 'a t c h  ', 't c h   a', 'c h   a t', 'h   a t  ', '  a t   h', 'a t   h t', 't   h t t', '  h t t p', 'h t t p w', 't t p w w', 't p w w w', 'p w w w f', 'w w w f r', 'w w f r a', 'w f r a u', 'f r a u d', 'r a u d o', 'a u d o r', 'u d o r g', 'd o r g t', 'o r g t h', 'r g t h e', 'g t h e  ', 't h e   s', 'h e   s i', 'e   s i t', '  s i t e', 's i t e  ', 'i t e   w', 't e   w h', 'e   w h i', '  w h i c', 'w h i c h', 'h i c h  ', 'i c h   c', 'c h   c o', 'h   c o l', '  c o l l', 'c o l l e', 'o l l e c', 'l l e c t', 'l e c t s', 'e c t s  ', 'c t s   r', 't s   r e', 's   r e p', '  r e p o', 'r e p o r', 'e p o r t', 'p o r t s', 'o r t s  ', 'r t s   d', 't s   d i', 's   d i r', '  d i r e', 'd i r e c', 'i r e c t', 'r e c t l', 'e c t l y', 'c t l y  ', 't l y   f', 'l y   f r', 'y   f r o', '  f r o m', 'f r o m  ', 'r o m   c', 'o m   c o', 'm   c o n', '  c o n s', 'c o n s u', 'o n s u m', 'n s u m e', 's u m e r', 'u m e r s', 'm e r s  ', 'e r s   h', 'r s   h a', 's   h a s', '  h a s  ', 'h a s   b', 'a s   b e', 's   b e e', '  b e e n', 'b e e n  ', 'e e n   w', 'e n   w i', 'n   w i d', '  w i d e', 'w i d e l', 'i d e l y', 'd e l y  ', 'e l y   p', 'l y   p r', 'y   p r a', '  p r a i', 'p r a i s', 'r a i s e', 'a i s e d', 'i s e d  ', 's e d   b', 'e d   b y', 'd   b y  ', '  b y   l', 'b y   l a', 'y   l a w', '  l a w  ', 'l a w   e', 'a w   e n', 'w   e n f', '  e n f o', 'e n f o r', 'n f o r c', 'f o r c e', 'o r c e m', 'r c e m e', 'c e m e n', 'e m e n t', 'm e n t  ', 'e n t   a', 'n t   a g', 't   a g e', '  a g e n', 'a g e n c', 'g e n c i', 'e n c i e', 'n c i e s', 'c i e s c', 'i e s c o', 'e s c o n', 's c o n s', 'c o n s u', 'o n s u m', 'n s u m e', 's u m e r', 'u m e r s', 'm e r s  ', 'e r s   w', 'r s   w h', 's   w h o', '  w h o  ', 'w h o   s', 'h o   s u', 'o   s u s', '  s u s p', 's u s p e', 'u s p e c', 's p e c t', 'p e c t  ', 'e c t   a', 'c t   a  ', 't   a   s', '  a   s c', 'a   s c a', '  s c a m', 's c a m  ', 'c a m   o', 'a m   o n', 'm   o n  ', '  o n   t', 'o n   t h', 'n   t h e', '  t h e  ', 't h e   i', 'h e   i n', 'e   i n t', '  i n t e', 'i n t e r', 'n t e r n', 't e r n e', 'e r n e t', 'r n e t  ', 'n e t   h', 'e t   h a', 't   h a v', '  h a v e', 'h a v e  ', 'a v e   c', 'v e   c r', 'e   c r i', '  c r i t', 'c r i t i', 'r i t i c', 'i t i c a', 't i c a l', 'i c a l  ', 'c a l   i', 'a l   i n', 'l   i n f', '  i n f o', 'i n f o r', 'n f o r m', 'f o r m a', 'o r m a t', 'r m a t i', 'm a t i o', 'a t i o n', 't i o n  ', 'i o n   s', 'o n   s a', 'n   s a i', '  s a i d', 's a i d  ', 'a i d   j', 'i d   j o', 'd   j o d', '  j o d i', 'j o d i e', 'o d i e  ', 'd i e   b', 'i e   b e', 'e   b e r', '  b e r n', 'b e r n s', 'e r n s t', 'r n s t e', 'n s t e i', 's t e i n', 't e i n  ', 'e i n   d', 'i n   d i', 'n   d i r', '  d i r e', 'd i r e c', 'i r e c t', 'r e c t o', 'e c t o r', 'c t o r  ', 't o r   o', 'o r   o f', 'r   o f  ', '  o f   t', 'o f   t h', 'f   t h e', '  t h e  ', 't h e   f', 'h e   f e', 'e   f e d', '  f e d e', 'f e d e r', 'e d e r a', 'd e r a l', 'e r a l  ', 'r a l   t', 'a l   t r', 'l   t r a', '  t r a d', 't r a d e', 'r a d e  ', 'a d e   c', 'd e   c o', 'e   c o m', '  c o m m', 'c o m m i', 'o m m i s', 'm m i s s', 'm i s s i', 'i s s i o', 's s i o n', \"s i o n '\", \"i o n ' s\", \"o n ' s  \", \"n ' s   b\", \"' s   b u\", 's   b u r', '  b u r e', 'b u r e a', 'u r e a u', 'r e a u  ', 'e a u   o', 'a u   o f', 'u   o f  ', '  o f   c', 'o f   c o', 'f   c o n', '  c o n s', 'c o n s u', 'o n s u m', 'n s u m e', 's u m e r', 'u m e r  ', 'm e r   p', 'e r   p r', 'r   p r o', '  p r o t', 'p r o t e', 'r o t e c', 'o t e c t', 't e c t i', 'e c t i o', 'c t i o n', 't i o n  ', 'i o n   i', 'o n   i n', 'n   i n t', '  i n t e', 'i n t e r', 'n t e r n', 't e r n e', 'e r n e t', 'r n e t  ', 'n e t   f', 'e t   f r', 't   f r a', '  f r a u', 'f r a u d', 'r a u d  ', 'a u d   w', 'u d   w a', 'd   w a t', '  w a t c', 'w a t c h', 'a t c h  ', 't c h   h', 'c h   h a', 'h   h a s', '  h a s  ', 'h a s   b', 'a s   b e', 's   b e e', '  b e e n', 'b e e n  ', 'e e n   a', 'e n   a  ', 'n   a   m', '  a   m a', 'a   m a j', '  m a j o', 'm a j o r', 'a j o r  ', 'j o r   h', 'o r   h e', 'r   h e l', '  h e l p', 'h e l p  ', 'e l p   t', 'l p   t o', 'p   t o  ', '  t o   t', 't o   t h', 'o   t h e', '  t h e  ', 't h e   f', 'h e   f t', 'e   f t c', '  f t c  ', 'f t c   i', 't c   i n', 'c   i n  ', '  i n   i', 'i n   i d', 'n   i d e', '  i d e n', 'i d e n t', 'd e n t i', 'e n t i f', 'n t i f y', 't i f y i', 'i f y i n', 'f y i n g', 'y i n g  ', 'i n g   p', 'n g   p a', 'g   p a r', '  p a r t', 'p a r t i', 'a r t i c', 'r t i c u', 't i c u l', 'i c u l a', 'c u l a r', 'u l a r  ', 'l a r   s', 'a r   s c', 'r   s c a', '  s c a m', 's c a m s', 'c a m s  ', 'a m s   i', 'm s   i n', 's   i n  ', '  i n   t', 'i n   t h', 'n   t h e', '  t h e i', 't h e i r', 'h e i r  ', 'e i r   i', 'i r   i n', 'r   i n f', '  i n f a', 'i n f a n', 'n f a n c', 'f a n c y', 'a n c y i', 'n c y i n', 'c y i n  ', 'y i n   m', 'i n   m a', 'n   m a y', '  m a y  ', 'm a y   f', 'a y   f o', 'y   f o r', '  f o r  ', 'f o r   e', 'o r   e x', 'r   e x a', '  e x a m', 'e x a m p', 'x a m p l', 'a m p l e', 'm p l e  ', 'p l e   t', 'l e   t h', 'e   t h e', '  t h e  ', 't h e   c', 'h e   c o', 'e   c o m', '  c o m m', 'c o m m i', 'o m m i s', 'm m i s s', 'm i s s i', 'i s s i o', 's s i o n', 's i o n  ', 'i o n   u', 'o n   u s', 'n   u s e', '  u s e d', 'u s e d  ', 's e d   i', 'e d   i n', 'd   i n t', '  i n t e', 'i n t e r', 'n t e r n', 't e r n e', 'e r n e t', 'r n e t  ', 'n e t   r', 'e t   r e', 't   r e p', '  r e p o', 'r e p o r', 'e p o r t', 'p o r t s', 'o r t s  ', 'r t s   t', 't s   t o', 's   t o  ', '  t o   s', 't o   s h', 'o   s h u', '  s h u t', 's h u t  ', 'h u t   d', 'u t   d o', 't   d o w', '  d o w n', 'd o w n  ', 'o w n   a', 'w n   a  ', 'n   a   s', '  a   s i', 'a   s i t', '  s i t e', 's i t e  ', 'i t e   r', 't e   r u', 'e   r u n', '  r u n  ', 'r u n   b', 'u n   b y', 'n   b y  ', '  b y   f', 'b y   f o', 'y   f o r', '  f o r t', 'f o r t u', 'o r t u n', 'r t u n a', 't u n a  ', 'u n a   a', 'n a   a l', 'a   a l l', '  a l l i', 'a l l i a', 'l l i a n', 'l i a n c', 'i a n c e', 'a n c e  ', 'n c e   t', 'c e   t h', 'e   t h a', '  t h a t', 't h a t  ', 'h a t   h', 'a t   h a', 't   h a d', '  h a d  ', 'h a d   t', 'a d   t a', 'd   t a k', '  t a k e', 't a k e n', 'a k e n  ', 'k e n   i', 'e n   i n', 'n   i n  ', '  i n   o', 'i n   o v', 'n   o v e', '  o v e r', 'o v e r  ', 'v e r    ', 'e r     m', 'r     m i', '    m i l', '  m i l l', 'm i l l i', 'i l l i o', 'l l i o n', 'l i o n  ', 'i o n   p', 'o n   p r', 'n   p r o', '  p r o m', 'p r o m i', 'r o m i s', 'o m i s i', 'm i s i n', 'i s i n g', 's i n g  ', 'i n g   i', 'n g   i n', 'g   i n v', '  i n v e', 'i n v e s', 'n v e s t', 'v e s t o', 'e s t o r', 's t o r s', 't o r s  ', 'o r s   t', 'r s   t h', 's   t h e', '  t h e y', 't h e y  ', 'h e y   c', 'e y   c o', 'y   c o u', '  c o u l', 'c o u l d', 'o u l d  ', 'u l d   e', 'l d   e a', 'd   e a r', '  e a r n', 'e a r n  ', 'a r n    ', 'r n     a', 'n     a  ', '    a   m', '  a   m o', 'a   m o n', '  m o n t', 'm o n t h', 'o n t h  ', 'n t h   f', 't h   f r', 'h   f r o', '  f r o m', 'f r o m  ', 'r o m   a', 'o m   a n', 'm   a n  ', '  a n   i', 'a n   i n', 'n   i n i', '  i n i t', 'i n i t i', 'n i t i a', 'i t i a l', 't i a l  ', 'i a l   d', 'a l   d e', 'l   d e p', '  d e p o', 'd e p o s', 'e p o s i', 'p o s i t', 'o s i t  ', 's i t   o', 'i t   o f', 't   o f  ', '  o f    ', 'o f     i', 'f     i n', '    i n s', '  i n s t', 'i n s t e', 'n s t e a', 's t e a d', 't e a d  ', 'e a d   f', 'a d   f o', 'd   f o r', '  f o r t', 'f o r t u', 'o r t u n', 'r t u n a', 't u n a  ', 'u n a   k', 'n a   k e', 'a   k e p', '  k e p t', 'k e p t  ', 'e p t   m', 'p t   m o', 't   m o s', '  m o s t', 'm o s t  ', 'o s t   o', 's t   o f', 't   o f  ', '  o f   t', 'o f   t h', 'f   t h e', '  t h e  ', 't h e   m', 'h e   m o', 'e   m o n', '  m o n e', 'm o n e y', 'o n e y  ', 'n e y   t', 'e y   t h', 'y   t h e', '  t h e  ', 't h e   c', 'h e   c o', 'e   c o m', '  c o m m', 'c o m m i', 'o m m i s', 'm m i s s', 'm i s s i', 'i s s i o', 's s i o n', 's i o n  ', 'i o n   c', 'o n   c h', 'n   c h a', '  c h a r', 'c h a r g', 'h a r g e', 'a r g e d', 'r g e d f', 'g e d f r', 'e d f r a', 'd f r a u', 'f r a u d', 'r a u d  ', 'a u d   r', 'u d   r e', 'd   r e p', '  r e p o', 'r e p o r', 'e p o r t', 'p o r t s', 'o r t s  ', 'r t s   f', 't s   f r', 's   f r o', '  f r o m', 'f r o m  ', 'r o m   t', 'o m   t h', 'm   t h e', '  t h e  ', 't h e   l', 'h e   l e', 'e   l e a', '  l e a g', 'l e a g u', 'e a g u e', \"a g u e '\", \"g u e ' s\", \"u e ' s  \", \"e ' s   s\", \"' s   s i\", 's   s i t', '  s i t e', 's i t e  ', 'i t e   w', 't e   w h', 'e   w h i', '  w h i c', 'w h i c h', 'h i c h  ', 'i c h   h', 'c h   h a', 'h   h a s', '  h a s  ', 'h a s   b', 'a s   b e', 's   b e e', '  b e e n', 'b e e n  ', 'e e n   v', 'e n   v i', 'n   v i s', '  v i s i', 'v i s i t', 'i s i t e', 's i t e d', 'i t e d  ', 't e d   o', 'e d   o v', 'd   o v e', '  o v e r', 'o v e r  ', 'v e r    ', 'e r     t', 'r     t i', '    t i m', '  t i m e', 't i m e s', 'i m e s  ', 'm e s   a', 'e s   a r', 's   a r e', '  a r e  ', 'a r e   f', 'r e   f o', 'e   f o r', '  f o r w', 'f o r w a', 'o r w a r', 'r w a r d', 'w a r d e', 'a r d e d', 'r d e d  ', 'd e d   t', 'e d   t o', 'd   t o  ', '  t o   l', 't o   l o', 'o   l o c', '  l o c a', 'l o c a l', 'o c a l  ', 'c a l   s', 'a l   s t', 'l   s t a', '  s t a t', 's t a t e', 't a t e  ', 'a t e   a', 't e   a n', 'e   a n d', '  a n d  ', 'a n d   f', 'n d   f e', 'd   f e d', '  f e d e', 'f e d e r', 'e d e r a', 'd e r a l', 'e r a l  ', 'r a l   a', 'a l   a u', 'l   a u t', '  a u t h', 'a u t h o', 'u t h o r', 't h o r i', 'h o r i t', 'o r i t i', 'r i t i e', 'i t i e s', 't i e s t', 'i e s t h', 'e s t h e', 's t h e  ', 't h e   s', 'h e   s e', 'e   s e c', '  s e c o', 's e c o n', 'e c o n d', 'c o n d -', 'o n d - m', 'n d - m o', 'd - m o s', '- m o s t', 'm o s t -', 'o s t - p', 's t - p o', 't - p o p', '- p o p u', 'p o p u l', 'o p u l a', 'p u l a r', 'u l a r  ', 'l a r   i', 'a r   i n', 'r   i n t', '  i n t e', 'i n t e r', 'n t e r n', 't e r n e', 'e r n e t', 'r n e t  ', 'n e t   s', 'e t   s c', 't   s c a', '  s c a m', 's c a m  ', 'c a m   t', 'a m   t h', 'm   t h e', '  t h e  ', 't h e   l', 'h e   l e', 'e   l e a', '  l e a g', 'l e a g u', 'e a g u e', 'a g u e  ', 'g u e   s', 'u e   s a', 'e   s a i', '  s a i d', 's a i d  ', 'a i d   w', 'i d   w a', 'd   w a s', '  w a s  ', 'w a s   t', 'a s   t h', 's   t h e', '  t h e  ', 't h e   s', 'h e   s a', 'e   s a l', '  s a l e', 's a l e  ', 'a l e   o', 'l e   o f', 'e   o f  ', '  o f   b', 'o f   b o', 'f   b o g', '  b o g u', 'b o g u s', 'o g u s  ', 'g u s   i', 'u s   i n', 's   i n t', '  i n t e', 'i n t e r', 'n t e r n', 't e r n e', 'e r n e t', 'r n e t  ', 'n e t   s', 'e t   s e', 't   s e r', '  s e r v', 's e r v i', 'e r v i c', 'r v i c e', 'v i c e s', 'i c e s  ', 'c e s   s', 'e s   s u', 's   s u c', '  s u c h', 's u c h  ', 'u c h   a', 'c h   a s', 'h   a s  ', '  a s   c', 'a s   c u', 's   c u s', '  c u s t', 'c u s t o', 'u s t o m', 's t o m  ', 't o m   d', 'o m   d e', 'm   d e s', '  d e s i', 'd e s i g', 'e s i g n', 's i g n e', 'i g n e d', 'g n e d  ', 'n e d   w', 'e d   w e', 'd   w e b', '  w e b  ', 'w e b   s', 'e b   s i', 'b   s i t', '  s i t e', 's i t e s', 'i t e s  ', 't e s   o', 'e s   o r', 's   o r  ', '  o r   i', 'o r   i n', 'r   i n t', '  i n t e', 'i n t e r', 'n t e r n', 't e r n e', 'e r n e t', 'r n e t  ', 'n e t   a', 'e t   a c', 't   a c c', '  a c c e', 'a c c e s', 'c c e s s', 'c e s s  ', 'e s s   a', 's s   a c', 's   a c c', '  a c c o', 'a c c o u', 'c c o u n', 'c o u n t', 'o u n t s', 'u n t s i', 'n t s i n', 't s i n  ', 's i n   t', 'i n   t h', 'n   t h i', '  t h i r', 't h i r d', 'h i r d  ', 'i r d   p', 'r d   p l', 'd   p l a', '  p l a c', 'p l a c e', 'l a c e  ', 'a c e   w', 'c e   w e', 'e   w e r', '  w e r e', 'w e r e  ', 'e r e   c', 'r e   c r', 'e   c r o', '  c r o o', 'c r o o k', 'r o o k s', 'o o k s  ', 'o k s   w', 'k s   w h', 's   w h o', '  w h o  ', 'w h o   s', 'h o   s e', 'o   s e l', '  s e l l', 's e l l  ', 'e l l   c', 'l l   c o', 'l   c o m', '  c o m p', 'c o m p u', 'o m p u t', 'm p u t e', 'p u t e r', 'u t e r  ', 't e r   e', 'e r   e q', 'r   e q u', '  e q u i', 'e q u i p', 'q u i p m', 'u i p m e', 'i p m e n', 'p m e n t', 'm e n t  ', 'e n t   s', 'n t   s u', 't   s u c', '  s u c h', 's u c h  ', 'u c h   a', 'c h   a s', 'h   a s  ', '  a s   m', 'a s   m e', 's   m e m', '  m e m o', 'm e m o r', 'e m o r y', 'm o r y  ', 'o r y   c', 'r y   c h', 'y   c h i', '  c h i p', 'c h i p s', 'h i p s  ', 'i p s   o', 'p s   o r', 's   o r  ', '  o r   s', 'o r   s o', 'r   s o u', '  s o u n', 's o u n d', 'o u n d  ', 'u n d   b', 'n d   b o', 'd   b o a', '  b o a r', 'b o a r d', 'o a r d s', 'a r d s  ', 'r d s   o', 'd s   o v', 's   o v e', '  o v e r', 'o v e r  ', 'v e r   t', 'e r   t h', 'r   t h e', '  t h e  ', 't h e   n', 'h e   n e', 'e   n e t', '  n e t  ', 'n e t   a', 'e t   a n', 't   a n d', '  a n d  ', 'a n d   t', 'n d   t h', 'd   t h e', '  t h e n', 't h e n  ', 'h e n   d', 'e n   d e', 'n   d e l', '  d e l i', 'd e l i v', 'e l i v e', 'l i v e r', 'i v e r  ', 'v e r   s', 'e r   s i', 'r   s i g', '  s i g n', 's i g n i', 'i g n i f', 'g n i f i', 'n i f i c', 'i f i c a', 'f i c a n', 'i c a n t', 'c a n t l', 'a n t l y', 'n t l y  ', 't l y   l', 'l y   l o', 'y   l o w', '  l o w e', 'l o w e r', 'o w e r  ', 'w e r   q', 'e r   q u', 'r   q u a', '  q u a l', 'q u a l i', 'u a l i t', 'a l i t y', 'l i t y  ', 'i t y   g', 't y   g o', 'y   g o o', '  g o o d', 'g o o d s', 'o o d s  ', 'o d s   o', 'd s   o r', 's   o r  ', '  o r   n', 'o r   n o', 'r   n o t', '  n o t h', 'n o t h i', 'o t h i n', 't h i n g', 'h i n g  ', 'i n g   a', 'n g   a t', 'g   a t  ', '  a t   a', 'a t   a l', 't   a l l', '  a l l  ', 'a l l   t', 'l l   t h', 'l   t h e', '  t h e  ', 't h e   l', 'h e   l e', 'e   l e a', '  l e a g', 'l e a g u', 'e a g u e', 'a g u e  ', 'g u e   s', 'u e   s a', 'e   s a i', '  s a i d', 's a i d o', 'a i d o t', 'i d o t h', 'd o t h e', 'o t h e r', 't h e r  ', 'h e r   t', 'e r   t o', 'r   t o p', '  t o p  ', 't o p   s', 'o p   s c', 'p   s c a', '  s c a m', 's c a m s', 'c a m s  ', 'a m s   i', 'm s   i n', 's   i n v', '  i n v o', 'i n v o l', 'n v o l v', 'v o l v e', 'o l v e  ', 'l v e   b', 'v e   b u', 'e   b u s', '  b u s i', 'b u s i n', 'u s i n e', 's i n e s', 'i n e s s', 'n e s s  ', 'e s s   o', 's s   o p', 's   o p p', '  o p p o', 'o p p o r', 'p p o r t', 'p o r t u', 'o r t u n', 'r t u n i', 't u n i t', 'u n i t i', 'n i t i e', 'i t i e s', 't i e s  ', 'i e s   c', 'e s   c o', 's   c o n', '  c o n  ', 'c o n   a', 'o n   a r', 'n   a r t', '  a r t i', 'a r t i s', 'r t i s t', 't i s t s', 'i s t s  ', 's t s   m', 't s   m a', 's   m a y', '  m a y  ', 'm a y   o', 'a y   o f', 'y   o f f', '  o f f e', 'o f f e r', 'f f e r  ', 'f e r   s', 'e r   s h', 'r   s h a', '  s h a r', 's h a r e', 'h a r e s', 'a r e s  ', 'r e s   i', 'e s   i n', 's   i n  ', '  i n   a', 'i n   a  ', 'n   a   b', '  a   b u', 'a   b u s', '  b u s i', 'b u s i n', 'u s i n e', 's i n e s', 'i n e s s', 'n e s s  ', 'e s s   o', 's s   o r', 's   o r  ', '  o r   f', 'o r   f r', 'r   f r a', '  f r a n', 'f r a n c', 'r a n c h', 'a n c h i', 'n c h i s', 'c h i s e', 'h i s e  ', 'i s e   u', 's e   u s', 'e   u s i', '  u s i n', 'u s i n g', 's i n g  ', 'i n g   u', 'n g   u n', 'g   u n r', '  u n r e', 'u n r e a', 'n r e a s', 'r e a s o', 'e a s o n', 'a s o n a', 's o n a b', 'o n a b l', 'n a b l e', 'a b l e  ', 'b l e   p', 'l e   p r', 'e   p r e', '  p r e d', 'p r e d i', 'r e d i c', 'e d i c t', 'd i c t i', 'i c t i o', 'c t i o n', 't i o n s', 'i o n s  ', 'o n s   o', 'n s   o r', 's   o r  ', '  o r   m', 'o r   m i', 'r   m i s', '  m i s r', 'm i s r e', 'i s r e p', 's r e p r', 'r e p r e', 'e p r e s', 'p r e s e', 'r e s e n', 'e s e n t', 's e n t a', 'e n t a t', 'n t a t i', 't a t i o', 'a t i o n', 't i o n s', 'i o n s  ', 'o n s   o', 'n s   o n', 's   o n e', '  o n e  ', 'o n e   p', 'n e   p o', 'e   p o p', '  p o p u', 'p o p u l', 'o p u l a', 'p u l a r', 'u l a r  ', 'l a r   s', 'a r   s c', 'r   s c h', '  s c h e', 's c h e m', 'c h e m e', 'h e m e  ', 'e m e   p', 'm e   p r', 'e   p r o', '  p r o m', 'p r o m i', 'r o m i s', 'o m i s e', 'm i s e d', 'i s e d  ', 's e d   t', 'e d   t o', 'd   t o  ', '  t o   l', 't o   l e', 'o   l e t', '  l e t  ', 'l e t   c', 'e t   c o', 't   c o n', '  c o n s', 'c o n s u', 'o n s u m', 'n s u m e', 's u m e r', 'u m e r s', 'm e r s  ', 'e r s   g', 'r s   g e', 's   g e t', '  g e t  ', 'g e t   r', 'e t   r i', 't   r i c', '  r i c h', 'r i c h  ', 'i c h   w', 'c h   w h', 'h   w h i', '  w h i l', 'w h i l e', 'h i l e  ', 'i l e   w', 'l e   w o', 'e   w o r', '  w o r k', 'w o r k i', 'o r k i n', 'r k i n g', 'k i n g  ', 'i n g   a', 'n g   a t', 'g   a t  ', '  a t   h', 'a t   h o', 't   h o m', '  h o m e', 'h o m e t', 'o m e t h', 'm e t h e', 'e t h e  ', 't h e   l', 'h e   l e', 'e   l e a', '  l e a g', 'l e a g u', 'e a g u e', 'a g u e  ', 'g u e   a', 'u e   a l', 'e   a l s', '  a l s o', 'a l s o  ', 'l s o   a', 's o   a n', 'o   a n n', '  a n n o', 'a n n o u', 'n n o u n', 'n o u n c', 'o u n c e', 'u n c e d', 'n c e d  ', 'c e d   t', 'e d   t u', 'd   t u e', '  t u e s', 't u e s d', 'u e s d a', 'e s d a y', 's d a y  ', 'd a y   t', 'a y   t h', 'y   t h a', '  t h a t', 't h a t  ', 'h a t   n', 'a t   n a', 't   n a t', '  n a t i', 'n a t i o', 'a t i o n', 't i o n s', 'i o n s b', 'o n s b a', 'n s b a n', 's b a n k', 'b a n k  ', 'a n k   h', 'n k   h a', 'k   h a d', '  h a d  ', 'h a d   d', 'a d   d o', 'd   d o n', '  d o n a', 'd o n a t', 'o n a t e', 'n a t e d', 'a t e d  ', 't e d    ', 'e d     t', 'd     t o', '    t o  ', '  t o   b', 't o   b e', 'o   b e c', '  b e c o', 'b e c o m', 'e c o m e', 'c o m e  ', 'o m e   a', 'm e   a  ', 'e   a   s', '  a   s p', 'a   s p o', '  s p o n', 's p o n s', 'p o n s o', 'o n s o r', 'n s o r  ', 's o r   o', 'o r   o f', 'r   o f  ', '  o f   t', 'o f   t h', 'f   t h e', '  t h e  ', 't h e   f', 'h e   f r', 'e   f r a', '  f r a u', 'f r a u d', 'r a u d  ', 'a u d   w', 'u d   w a', 'd   w a t', '  w a t c', 'w a t c h', 'a t c h  ', 't c h   s', 'c h   s i', 'h   s i t', '  s i t e']\n"
     ]
    }
   ],
   "source": [
    "# Display character n-grams from first document\n",
    "print(articleDB[0])"
   ]
  },
  {
   "cell_type": "markdown",
   "metadata": {},
   "source": [
    "##  Reduce and Normalize Data"
   ]
  },
  {
   "cell_type": "code",
   "execution_count": 10,
   "metadata": {},
   "outputs": [
    {
     "name": "stdout",
     "output_type": "stream",
     "text": [
      " [nrows 5000, ncols 7000, nnz 5732172]\n"
     ]
    }
   ],
   "source": [
    "# Down select features\n",
    "DB = filterSize(articleDB, 7000)\n",
    "   \n",
    "# Create CSR matrix\n",
    "mat = build_matrix(DB)\n",
    "csr_info(mat)\n",
    "    \n",
    "# Normalize Data\n",
    "mat = td_idf(mat)\n",
    "mat = l2norm(mat)"
   ]
  },
  {
   "cell_type": "markdown",
   "metadata": {},
   "source": [
    "## Classify using SVM "
   ]
  },
  {
   "cell_type": "code",
   "execution_count": 11,
   "metadata": {},
   "outputs": [
    {
     "name": "stdout",
     "output_type": "stream",
     "text": [
      "F1 Score for each Fold: [0.89050891 0.85098474 0.80616118 0.81690668 0.85325067 0.83738318\n",
      " 0.85267429 0.83759586 0.86746834 0.85187126]\n",
      "Average F1 Score:  0.8464805097178731\n"
     ]
    }
   ],
   "source": [
    "# Construct SVM and K-folds\n",
    "svc = SVC(kernel='rbf', C=10)\n",
    "k_fold = KFold(n_splits=10, shuffle=True, random_state=20)\n",
    "    \n",
    "# Run Cross Validation\n",
    "f1_sc = cross_val_score(svc, mat, authorID, cv=k_fold, n_jobs=-1, scoring='f1_weighted')\n",
    "print('F1 Score for each Fold:', f1_sc)\n",
    "print('Average F1 Score: ', np.mean(f1_sc))"
   ]
  },
  {
   "cell_type": "code",
   "execution_count": null,
   "metadata": {},
   "outputs": [],
   "source": []
  }
 ],
 "metadata": {
  "kernelspec": {
   "display_name": "Python 3",
   "language": "python",
   "name": "python3"
  },
  "language_info": {
   "codemirror_mode": {
    "name": "ipython",
    "version": 3
   },
   "file_extension": ".py",
   "mimetype": "text/x-python",
   "name": "python",
   "nbconvert_exporter": "python",
   "pygments_lexer": "ipython3",
   "version": "3.8.5"
  }
 },
 "nbformat": 4,
 "nbformat_minor": 4
}
