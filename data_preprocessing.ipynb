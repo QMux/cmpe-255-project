{
 "cells": [
  {
   "cell_type": "code",
   "execution_count": 1,
   "metadata": {},
   "outputs": [],
   "source": [
    "import numpy as np\n",
    "import scipy as sp\n",
    "%matplotlib inline\n",
    "import matplotlib.pyplot as plt\n",
    "from collections import defaultdict\n",
    "import os\n",
    "import re\n",
    "import string\n",
    "import nltk\n",
    "from nltk.corpus import stopwords\n",
    "from nltk.tokenize import word_tokenize \n",
    "from nltk.stem import PorterStemmer\n",
    "from sklearn.cluster import KMeans\n",
    "from sklearn.decomposition import TruncatedSVD"
   ]
  },
  {
   "cell_type": "code",
   "execution_count": 2,
   "metadata": {},
   "outputs": [],
   "source": [
    "def tokenizeArticle(filename):\n",
    "    \n",
    "    \n",
    "    # load text\n",
    "    file = open(filename, 'rt')\n",
    "    text = file.read()\n",
    "    file.close()\n",
    "\n",
    "    # Tokenize text string\n",
    "    word_tokens = word_tokenize(text) \n",
    "\n",
    "    # Remove all punctunation and numbers\n",
    "    words = [word.lower() for word in word_tokens if word.isalpha()]\n",
    "\n",
    "    # Remove stop words\n",
    "    stop_words = set(stopwords.words('english')) \n",
    "    words = [w for w in words if not w in stop_words] \n",
    "\n",
    "    # Stem all words\n",
    "    ps = PorterStemmer()\n",
    "    words = [ps.stem(w) for w in words] \n",
    "    \n",
    "    return words"
   ]
  },
  {
   "cell_type": "code",
   "execution_count": 3,
   "metadata": {},
   "outputs": [],
   "source": [
    "# Initialize variables to store author for each article and word tokenization matrix\n",
    "authorCount = 0\n",
    "authorID = []\n",
    "articleDB = []\n",
    "\n",
    "# Loop through each author directory within training set\n",
    "dataDir = os.listdir('data/C50train')\n",
    "for dDir in dataDir:\n",
    "    \n",
    "    # Loop through each article within author directory\n",
    "    authorDir = os.listdir('data/C50train/' + dDir)\n",
    "    for aDir in authorDir:\n",
    "        \n",
    "        # Tokenize each article and store author ID\n",
    "        articleDB.append(tokenizeArticle('data/C50train/' + dDir + '/' + aDir))\n",
    "        authorID.append(authorCount)\n",
    "        \n",
    "    # Increment author id for next author\n",
    "    authorCount = authorCount + 1\n",
    "\n",
    "#len(articleDB)\n",
    "#print(articleDB[1])\n",
    "#print(authorID)"
   ]
  },
  {
   "cell_type": "code",
   "execution_count": 4,
   "metadata": {},
   "outputs": [
    {
     "name": "stdout",
     "output_type": "stream",
     "text": [
      "['internet', 'may', 'overflow', 'new', 'technolog', 'crime', 'cyberspac', 'still', 'varieti', 'nation', 'consum', 'leagu', 'said', 'wednesday', 'popular', 'scam', 'internet', 'pyramid', 'scheme', 'earli', 'investor', 'bogu', 'fund', 'paid', 'deposit', 'later', 'investor', 'leagu', 'consum', 'advocaci', 'group', 'track', 'web', 'scam', 'site', 'set', 'world', 'wide', 'web', 'februari', 'call', 'internet', 'fraud', 'watch', 'http', 'site', 'collect', 'report', 'directli', 'consum', 'wide', 'prais', 'law', 'enforc', 'agenc', 'consum', 'suspect', 'scam', 'internet', 'critic', 'inform', 'said', 'jodi', 'bernstein', 'director', 'feder', 'trade', 'commiss', 'bureau', 'consum', 'protect', 'internet', 'fraud', 'watch', 'major', 'help', 'ftc', 'identifi', 'particular', 'scam', 'infanc', 'may', 'exampl', 'commiss', 'use', 'internet', 'report', 'shut', 'site', 'run', 'fortuna', 'allianc', 'taken', 'million', 'promis', 'investor', 'could', 'earn', 'month', 'initi', 'deposit', 'instead', 'fortuna', 'kept', 'money', 'commiss', 'charg', 'fraud', 'report', 'leagu', 'site', 'visit', 'time', 'forward', 'local', 'state', 'feder', 'author', 'internet', 'scam', 'leagu', 'said', 'sale', 'bogu', 'internet', 'servic', 'custom', 'design', 'web', 'site', 'internet', 'access', 'account', 'third', 'place', 'crook', 'sell', 'comput', 'equip', 'memori', 'chip', 'sound', 'board', 'net', 'deliv', 'significantli', 'lower', 'qualiti', 'good', 'noth', 'leagu', 'said', 'top', 'scam', 'involv', 'busi', 'opportun', 'con', 'artist', 'may', 'offer', 'share', 'busi', 'franchis', 'use', 'unreason', 'predict', 'misrepresent', 'one', 'popular', 'scheme', 'promis', 'let', 'consum', 'get', 'rich', 'work', 'home', 'leagu', 'also', 'announc', 'tuesday', 'nationsbank', 'donat', 'becom', 'sponsor', 'fraud', 'watch', 'site']\n",
      "['communist', 'parti', 'chief', 'jiang', 'zemin', 'put', 'person', 'stamp', 'legaci', 'china', 'paramount', 'leader', 'deng', 'xiaop', 'televis', 'paean', 'aim', 'portray', 'patriarch', 'right', 'heir', 'analyst', 'said', 'primetim', 'televis', 'seri', 'also', 'care', 'craft', 'limit', 'role', 'might', 'challeng', 'jiang', 'claim', 'deng', 'mantl', 'might', 'disagre', 'version', 'patriarch', 'role', 'said', 'monday', 'build', 'deng', 'build', 'jiang', 'said', 'western', 'diplomat', 'long', 'experi', 'china', 'view', 'wide', 'share', 'china', 'analyst', 'jiang', 'want', 'use', 'deng', 'legaci', 'build', 'public', 'imag', 'said', 'anoth', 'diplomat', 'china', 'central', 'televis', 'spent', 'four', 'year', 'seri', 'trace', 'deng', 'person', 'long', 'march', 'birthplac', 'southwestern', 'sichuan', 'provinc', 'pinnacl', 'power', 'breathless', 'tone', 'heap', 'prais', 'veteran', 'leader', 'pragmat', 'polici', 'made', 'countrymen', 'proud', 'prosper', 'state', 'televis', 'estim', 'million', 'peopl', 'percent', 'million', 'peopl', 'access', 'televis', 'watch', 'programm', 'broadcast', 'success', 'even', 'jiang', 'offici', 'refer', 'core', 'third', 'gener', 'china', 'leadership', 'introduc', 'seri', 'enter', 'final', 'judgment', 'deng', 'contribut', 'build', 'modern', 'chines', 'state', 'worthi', 'outstand', 'marxist', 'stalwart', 'communist', 'jiang', 'said', 'man', 'whose', 'reform', 'turn', 'backward', 'stalinist', 'state', 'econom', 'powerhous', 'deng', 'seen', 'public', 'nearli', 'three', 'year', 'last', 'appear', 'show', 'look', 'frail', 'falter', 'final', 'episod', 'televis', 'seri', 'show', 'deng', 'announc', 'retir', 'last', 'offici', 'post', 'step', 'parti', 'power', 'central', 'militari', 'commiss', 'seen', 'stroll', 'jiang', 'side', 'deng', 'call', 'parti', 'ralli', 'round', 'anoint', 'successor', 'analyst', 'said', 'much', 'drama', 'otherwis', 'predict', 'seri', 'stem', 'omit', 'seri', 'made', 'mention', 'deng', 'previou', 'anoint', 'successor', 'zhao', 'ziyang', 'man', 'close', 'link', 'guid', 'china', 'reform', 'dismiss', 'power', 'struggl', 'accompani', 'crackdown', 'movement', 'beij', 'viewer', 'receiv', 'brief', 'glimps', 'zhao', 'hous', 'arrest', 'sinc', 'shown', 'sign', 'histor', 'accord', 'return', 'hong', 'kong', 'china', 'year', 'late', 'hu', 'yaobang', 'deng', 'heir', 'appar', 'fell', 'grace', 'given', 'perfunctori', 'mention', 'former', 'presid', 'yang', 'shangkun', 'drop', 'amid', 'fear', 'build', 'faction', 'mount', 'leadership', 'challeng', 'made', 'brief', 'appear', 'deng', 'children', 'shown', 'alongsid', 'elderli', 'leader', 'hold', 'steadi', 'walk', 'uncertain', 'feet', 'speak', 'one', 'good', 'ear', 'button', 'tunic', 'opportun', 'give', 'assess', 'man', 'patriarch', 'famili', 'well', 'communist', 'parti', 'seri', 'paid', 'homag', 'deng', 'tour', 'southern', 'china', 'special', 'econom', 'zone', 'use', 'stall', 'reform', 'viewer', 'saw', 'sanitis', 'version', 'key', 'part', 'southern', 'tour', 'deng', 'theme', 'said', 'chines', 'academ', 'made', 'mention', 'analyst', 'said', 'jiang', 'placat', 'communist', 'parti', 'left', 'wing', 'prepar', 'parti', 'congress', 'schedul', 'later', 'year', 'pivot', 'meet', 'set', 'nation', 'polit', 'econom', 'cours', 'next', 'five', 'year', 'hold', 'tightli', 'deng', 'legaci', 'tri', 'demonstr', 'one', 'interpret', 'deng', 'said', 'china', 'analyst', 'one', 'set', 'tone', 'congress']\n"
     ]
    }
   ],
   "source": [
    "print(articleDB[0])\n",
    "print(articleDB[2499])"
   ]
  },
  {
   "cell_type": "code",
   "execution_count": 5,
   "metadata": {},
   "outputs": [],
   "source": [
    "from collections import Counter\n",
    "from scipy.sparse import csr_matrix\n",
    "def build_matrix(docs):\n",
    "    r\"\"\" Build sparse matrix from a list of documents, \n",
    "    each of which is a list of word/terms in the document.  \n",
    "    \"\"\"\n",
    "    nrows = len(docs)\n",
    "    idx = {}\n",
    "    tid = 0\n",
    "    nnz = 0\n",
    "    for d in docs:\n",
    "        nnz += len(set(d))\n",
    "        for w in d:\n",
    "            if w not in idx:\n",
    "                idx[w] = tid\n",
    "                tid += 1\n",
    "    ncols = len(idx)\n",
    "        \n",
    "    # set up memory\n",
    "    ind = np.zeros(nnz, dtype=np.int)\n",
    "    val = np.zeros(nnz, dtype=np.double)\n",
    "    ptr = np.zeros(nrows+1, dtype=np.int)\n",
    "    i = 0  # document ID / row counter\n",
    "    n = 0  # non-zero counter\n",
    "    # transfer values\n",
    "    for d in docs:\n",
    "        cnt = Counter(d)\n",
    "        keys = list(k for k,_ in cnt.most_common())\n",
    "        l = len(keys)\n",
    "        for j,k in enumerate(keys):\n",
    "            ind[j+n] = idx[k]\n",
    "            val[j+n] = cnt[k]\n",
    "        ptr[i+1] = ptr[i] + l\n",
    "        n += l\n",
    "        i += 1\n",
    "            \n",
    "    mat = csr_matrix((val, ind, ptr), shape=(nrows, ncols), dtype=np.double)\n",
    "    mat.sort_indices()\n",
    "    \n",
    "    return mat\n",
    "\n",
    "\n",
    "def csr_info(mat, name=\"\", non_empy=False):\n",
    "    r\"\"\" Print out info about this CSR matrix. If non_empy, \n",
    "    report number of non-empty rows and cols as well\n",
    "    \"\"\"\n",
    "    if non_empy:\n",
    "        print(\"%s [nrows %d (%d non-empty), ncols %d (%d non-empty), nnz %d]\" % (\n",
    "                name, mat.shape[0], \n",
    "                sum(1 if mat.indptr[i+1] > mat.indptr[i] else 0 \n",
    "                for i in range(mat.shape[0])), \n",
    "                mat.shape[1], len(np.unique(mat.indices)), \n",
    "                len(mat.data)))\n",
    "    else:\n",
    "        print( \"%s [nrows %d, ncols %d, nnz %d]\" % (name, \n",
    "                mat.shape[0], mat.shape[1], len(mat.data)) )"
   ]
  },
  {
   "cell_type": "code",
   "execution_count": 6,
   "metadata": {},
   "outputs": [
    {
     "name": "stdout",
     "output_type": "stream",
     "text": [
      " [nrows 2500, ncols 18101, nnz 437259]\n",
      "[[9. 3. 1. ... 0. 0. 0.]]\n"
     ]
    }
   ],
   "source": [
    "mat = build_matrix(articleDB)\n",
    "csr_info(mat)\n",
    "print(mat[0][:].toarray())"
   ]
  },
  {
   "cell_type": "code",
   "execution_count": 7,
   "metadata": {},
   "outputs": [],
   "source": [
    "nrows = mat.shape[0]\n",
    "nnz = mat.nnz\n",
    "ind, val, ptr = mat.indices, mat.data, mat.indptr\n",
    "# document frequency\n",
    "df = defaultdict(int)\n",
    "for i in ind:\n",
    "    df[i] += 1\n",
    "\n",
    "# inverse document frequency\n",
    "for k,v in df.items():\n",
    "    df[k] = np.log(nrows / float(v))  ## df turns to idf - reusing memory\n",
    "# scale by idf\n",
    "for i in range(0, nnz):\n",
    "    val[i] *= df[ind[i]]"
   ]
  },
  {
   "cell_type": "code",
   "execution_count": 8,
   "metadata": {},
   "outputs": [],
   "source": [
    "nrows = mat.shape[0]\n",
    "nnz = mat.nnz\n",
    "ind, val, ptr = mat.indices, mat.data, mat.indptr\n",
    "for i in range(nrows):\n",
    "        rsum = 0.0    \n",
    "        for j in range(ptr[i], ptr[i+1]):\n",
    "            rsum += val[j]**2\n",
    "        if rsum == 0.0:\n",
    "            continue  # do not normalize empty rows\n",
    "        rsum = 1.0/np.sqrt(rsum)\n",
    "        for j in range(ptr[i], ptr[i+1]):\n",
    "            val[j] *= rsum"
   ]
  },
  {
   "cell_type": "code",
   "execution_count": null,
   "metadata": {},
   "outputs": [],
   "source": []
  }
 ],
 "metadata": {
  "kernelspec": {
   "display_name": "Python 3",
   "language": "python",
   "name": "python3"
  },
  "language_info": {
   "codemirror_mode": {
    "name": "ipython",
    "version": 3
   },
   "file_extension": ".py",
   "mimetype": "text/x-python",
   "name": "python",
   "nbconvert_exporter": "python",
   "pygments_lexer": "ipython3",
   "version": "3.8.5"
  }
 },
 "nbformat": 4,
 "nbformat_minor": 4
}
