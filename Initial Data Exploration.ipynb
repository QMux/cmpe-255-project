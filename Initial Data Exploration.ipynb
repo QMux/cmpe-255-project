{
 "cells": [
  {
   "cell_type": "code",
   "execution_count": 1,
   "id": "a02b2f64",
   "metadata": {},
   "outputs": [
    {
     "name": "stderr",
     "output_type": "stream",
     "text": [
      "[nltk_data] Downloading package wordnet to /home/quadm/nltk_data...\n",
      "[nltk_data]   Package wordnet is already up-to-date!\n"
     ]
    }
   ],
   "source": [
    "import pandas as pd\n",
    "import numpy as np\n",
    "import matplotlib.pyplot as plt\n",
    "import nltk\n",
    "#nltk.download('wordnet')\n",
    "import gensim\n",
    "import string\n",
    "from wordcloud import WordCloud\n",
    "from PIL import Image\n",
    "import collections"
   ]
  },
  {
   "cell_type": "code",
   "execution_count": 2,
   "id": "78caa87b",
   "metadata": {},
   "outputs": [],
   "source": [
    "from nltk.stem import PorterStemmer\n",
    "from nltk.tokenize import word_tokenize\n",
    "\n",
    "def hasNumber(word):\n",
    "    return any(char.isdigit() for char in word)\n",
    "      \n",
    "def preprocess(textfile):\n",
    "    with open(textfile, 'r') as reader:\n",
    "        text = reader.read()\n",
    "    text = text.lower()     # Make all text lowercase\n",
    "    nopunct=\"\".join([char for char in text if char not in string.punctuation]) # Remove all punctuation\n",
    "    tokens = nltk.tokenize.word_tokenize(nopunct) # Tokenize\n",
    "    nonums = [t for t in tokens if not hasNumber(t)]  # Remove all numbers\n",
    "    \n",
    "    ps = PorterStemmer()\n",
    "    \n",
    "    nostop = [t for t in nonums if t not in nltk.corpus.stopwords.words('english')]\n",
    "    return [ps.stem(t) for t in nostop]\n"
   ]
  },
  {
   "cell_type": "code",
   "execution_count": 73,
   "id": "08c94ba0",
   "metadata": {},
   "outputs": [
    {
     "name": "stderr",
     "output_type": "stream",
     "text": [
      "100%|██████████| 50/50 [02:05<00:00,  2.51s/it]\n",
      "100%|██████████| 50/50 [02:17<00:00,  2.76s/it]\n"
     ]
    }
   ],
   "source": [
    "import os\n",
    "from tqdm  import tqdm\n",
    "\n",
    "data = 'data'\n",
    "train_corpus = []\n",
    "\n",
    "for testTrain in ['C50test' , 'C50train']:\n",
    "    for author in tqdm(os.listdir(os.path.join(data, testTrain))):\n",
    "        for sample_text in os.listdir(os.path.join(data, testTrain, author)):\n",
    "            train_corpus.append(preprocess(os.path.join(data, testTrain, author, sample_text)))"
   ]
  },
  {
   "cell_type": "code",
   "execution_count": 75,
   "id": "9eb45cf7",
   "metadata": {},
   "outputs": [
    {
     "name": "stderr",
     "output_type": "stream",
     "text": [
      "/home/quadm/anaconda3/lib/python3.8/site-packages/smart_open/smart_open_lib.py:400: UserWarning: This function is deprecated, use smart_open.open instead. See the migration notes for details: https://github.com/RaRe-Technologies/smart_open/blob/master/README.rst#migrating-to-the-new-open-function\n",
      "  warnings.warn(\n"
     ]
    }
   ],
   "source": [
    "from gensim.test.utils import common_texts\n",
    "from gensim.models import Word2Vec\n",
    "\n",
    "model = Word2Vec(sentences=train_corpus, size=100, window=5, min_count=1, workers=4)\n",
    "model.train([tokenized], total_examples=5000, epochs=100)\n",
    "model.save('articles.model')"
   ]
  },
  {
   "cell_type": "code",
   "execution_count": 76,
   "id": "2b0532c3",
   "metadata": {},
   "outputs": [],
   "source": [
    "vocab_list = sorted(list(model.wv.vocab.keys()))\n",
    "word_vectors = []\n",
    "for word in vocab_list:\n",
    "    word_vectors.append(model.wv[word])\n",
    "\n",
    "word_vectors = np.asarray(word_vectors)"
   ]
  },
  {
   "cell_type": "code",
   "execution_count": 77,
   "id": "349f3def",
   "metadata": {},
   "outputs": [],
   "source": [
    "norm_wv = word_vectors / np.linalg.norm(word_vectors)"
   ]
  },
  {
   "cell_type": "code",
   "execution_count": 132,
   "id": "d52f154b",
   "metadata": {},
   "outputs": [],
   "source": [
    "from sklearn.decomposition import PCA\n",
    "from sklearn.cluster import KMeans\n",
    "\n",
    "def plotKMeans(n_clusters, data):\n",
    "    pca = PCA(n_components=2)\n",
    "    transform = pca.fit_transform(data)\n",
    "    kmeans = KMeans(n_clusters=n_clusters, random_state=0).fit(data)\n",
    "    df = pd.DataFrame(transform)\n",
    "    df['Labels'] = kmeans.labels_\n",
    "\n",
    "    for i in range(n_clusters):\n",
    "        group = df[df['Labels'] == i]\n",
    "        plt.scatter(group[0], group[1], s=1)\n",
    "    return df\n",
    "        \n",
    "#plotKMeans(1000, norm_wv)"
   ]
  },
  {
   "cell_type": "code",
   "execution_count": 82,
   "id": "b4e12b91",
   "metadata": {},
   "outputs": [
    {
     "name": "stderr",
     "output_type": "stream",
     "text": [
      "100%|██████████| 5000/5000 [25:29<00:00,  3.27it/s]\n"
     ]
    }
   ],
   "source": [
    "training_data = []\n",
    "for corp in tqdm(train_corpus):\n",
    "    n = np.zeros(n_clusters)\n",
    "    for word in corp:\n",
    "        i = vocab_list.index(word)\n",
    "        l = int(df.loc[i]['Labels'])\n",
    "        n[l] += 1\n",
    "    training_data.append(n)\n",
    "        "
   ]
  },
  {
   "cell_type": "code",
   "execution_count": 277,
   "id": "660f7552",
   "metadata": {},
   "outputs": [
    {
     "name": "stdout",
     "output_type": "stream",
     "text": [
      "0.2725790010278422\n"
     ]
    }
   ],
   "source": [
    "import sklearn\n",
    "from sklearn.decomposition import TruncatedSVD\n",
    "\n",
    "X = np.asarray(training_data)\n",
    "for i in range(len(X)):\n",
    "    X[i] = X[i] / sum(X[i])\n",
    "\n",
    "# Perform SVD\n",
    "svd = TruncatedSVD(n_components=20)\n",
    "svd.fit(X)\n",
    "X = svd.transform(X)\n",
    "\n",
    "#Check explained variance\n",
    "k = svd.explained_variance_ratio_\n",
    "s = 0\n",
    "for i in k:\n",
    "    s+=i\n",
    "print(s)\n",
    "    \n",
    "y_labels = range(50)\n",
    "y_labels = list(np.repeat(y_labels, 50))*2\n",
    "y_labels = np.asarray(y_labels)\n",
    "\n",
    "X_train, X_test, y_train, y_test = sklearn.model_selection.train_test_split(X,y_labels, test_size=0.2)"
   ]
  },
  {
   "cell_type": "code",
   "execution_count": 278,
   "id": "4d48b33f",
   "metadata": {},
   "outputs": [
    {
     "data": {
      "image/png": "[encoded data removed]",
      "text/plain": [
       "<Figure size 432x288 with 1 Axes>"
      ]
     },
     "metadata": {
      "needs_background": "light"
     },
     "output_type": "display_data"
    }
   ],
   "source": [
    "y = plotKMeans(50, X_train)"
   ]
  },
  {
   "cell_type": "code",
   "execution_count": 279,
   "id": "522c8556",
   "metadata": {},
   "outputs": [
    {
     "name": "stdout",
     "output_type": "stream",
     "text": [
      "[28  6  3 ...  5 35 42]\n"
     ]
    }
   ],
   "source": [
    "print(y_train)"
   ]
  },
  {
   "cell_type": "code",
   "execution_count": 280,
   "id": "4b0c31f4",
   "metadata": {},
   "outputs": [
    {
     "name": "stdout",
     "output_type": "stream",
     "text": [
      "             0         1  Labels\n",
      "0     0.025275 -0.015406      28\n",
      "1    -0.013288 -0.018974       5\n",
      "2    -0.003116 -0.009955      42\n",
      "3    -0.002961 -0.020081       3\n",
      "4     0.008220 -0.020517      40\n",
      "...        ...       ...     ...\n",
      "3995 -0.032356  0.038103       7\n",
      "3996  0.012351 -0.003025      39\n",
      "3997 -0.016250 -0.007581      24\n",
      "3998 -0.006081 -0.036143      17\n",
      "3999  0.039803  0.012188       2\n",
      "\n",
      "[4000 rows x 3 columns]\n"
     ]
    }
   ],
   "source": [
    "print(y)"
   ]
  },
  {
   "cell_type": "code",
   "execution_count": 281,
   "id": "6d4b5f99",
   "metadata": {},
   "outputs": [
    {
     "data": {
      "text/plain": [
       "0.4950321749209997"
      ]
     },
     "execution_count": 281,
     "metadata": {},
     "output_type": "execute_result"
    }
   ],
   "source": [
    "from sklearn.metrics import normalized_mutual_info_score\n",
    "y_pred = y['Labels'].values.flatten()\n",
    "normalized_mutual_info_score(y_pred, y_train)"
   ]
  },
  {
   "cell_type": "code",
   "execution_count": 286,
   "id": "37df2272",
   "metadata": {},
   "outputs": [
    {
     "name": "stdout",
     "output_type": "stream",
     "text": [
      "5\n",
      "6\n"
     ]
    }
   ],
   "source": [
    "y_train_labels = {idx: y for idx, y in enumerate(y_train)}\n",
    "y_train_sorted = {k: v for k, v in sorted(y_train_labels.items(), key=lambda item: item[1])}\n",
    "y_pred_labels = {idx: y for idx, y in enumerate(y_pred)}\n",
    "y_pred_sorted = {k: v for k, v in sorted(y_pred_labels.items(), key=lambda item: item[1])}\n",
    "\n",
    "#Compare two clusters\n",
    "print(y_pred_labels[1])\n",
    "print(y_train_labels[1])\n"
   ]
  },
  {
   "cell_type": "code",
   "execution_count": 287,
   "id": "a6f1b71b",
   "metadata": {},
   "outputs": [
    {
     "name": "stdout",
     "output_type": "stream",
     "text": [
      "114\n",
      "81\n",
      "5\n"
     ]
    }
   ],
   "source": [
    "from sklearn.metrics import jaccard_score\n",
    "c1 = 5\n",
    "c2 = 6\n",
    "y_pred_filt = set([k for k, v in y_pred_sorted.items() if v == c1])\n",
    "y_train_filt = set([k for k, v in y_train_sorted.items() if v == c2])\n",
    "print(len(y_pred_filt))\n",
    "print(len(y_train_filt))\n",
    "print(len(y_pred_filt.intersection(y_train_filt)))\n",
    "\n"
   ]
  },
  {
   "cell_type": "code",
   "execution_count": 284,
   "id": "9ead6f98",
   "metadata": {},
   "outputs": [
    {
     "data": {
      "text/plain": [
       "0.08660128828343265"
      ]
     },
     "execution_count": 284,
     "metadata": {},
     "output_type": "execute_result"
    }
   ],
   "source": [
    "k = np.random.randint(50,size=4000)\n",
    "j = np.random.randint(50,size=4000)\n",
    "normalized_mutual_info_score(j,k)"
   ]
  },
  {
   "cell_type": "code",
   "execution_count": null,
   "id": "5d6f9db0",
   "metadata": {},
   "outputs": [],
   "source": []
  },
  {
   "cell_type": "code",
   "execution_count": null,
   "id": "082d5a4a",
   "metadata": {},
   "outputs": [],
   "source": []
  }
 ],
 "metadata": {
  "kernelspec": {
   "display_name": "Python 3",
   "language": "python",
   "name": "python3"
  },
  "language_info": {
   "codemirror_mode": {
    "name": "ipython",
    "version": 3
   },
   "file_extension": ".py",
   "mimetype": "text/x-python",
   "name": "python",
   "nbconvert_exporter": "python",
   "pygments_lexer": "ipython3",
   "version": "3.8.5"
  }
 },
 "nbformat": 4,
 "nbformat_minor": 5
}
